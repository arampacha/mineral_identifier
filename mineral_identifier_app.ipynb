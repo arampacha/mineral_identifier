{
  "nbformat": 4,
  "nbformat_minor": 0,
  "metadata": {
    "kernelspec": {
      "display_name": "Python 3",
      "language": "python",
      "name": "python3"
    },
    "language_info": {
      "codemirror_mode": {
        "name": "ipython",
        "version": 3
      },
      "file_extension": ".py",
      "mimetype": "text/x-python",
      "name": "python",
      "nbconvert_exporter": "python",
      "pygments_lexer": "ipython3",
      "version": "3.8.5"
    },
    "toc": {
      "base_numbering": 1,
      "nav_menu": {},
      "number_sections": true,
      "sideBar": true,
      "skip_h1_title": false,
      "title_cell": "Table of Contents",
      "title_sidebar": "Contents",
      "toc_cell": false,
      "toc_position": {},
      "toc_section_display": true,
      "toc_window_display": false
    },
    "colab": {
      "name": "mineral_identifier_app.ipynb",
      "provenance": []
    }
  },
  "cells": [
    {
      "cell_type": "code",
      "metadata": {
        "id": "r1CI_EPMmZjf",
        "colab_type": "code",
        "colab": {}
      },
      "source": [
        "from fastai.vision.all import *\n",
        "from fastai.vision.widgets import *"
      ],
      "execution_count": 1,
      "outputs": []
    },
    {
      "cell_type": "code",
      "metadata": {
        "id": "tTuQdDgpmZjr",
        "colab_type": "code",
        "colab": {}
      },
      "source": [
        "def label_func(o):\n",
        "    return list((parent_label(o), ))"
      ],
      "execution_count": 2,
      "outputs": []
    },
    {
      "cell_type": "code",
      "metadata": {
        "id": "TIYpmASymZj2",
        "colab_type": "code",
        "colab": {}
      },
      "source": [
        "path = Path()"
      ],
      "execution_count": 3,
      "outputs": []
    },
    {
      "cell_type": "code",
      "metadata": {
        "id": "tYX8zCvkmZkF",
        "colab_type": "code",
        "colab": {}
      },
      "source": [
        "try:\n",
        "    learn_inf = load_learner(path/'export.pkl')\n",
        "except Exception as e:\n",
        "    print(e)"
      ],
      "execution_count": 4,
      "outputs": []
    },
    {
      "cell_type": "code",
      "metadata": {
        "id": "yVIYFyZXmZkL",
        "colab_type": "code",
        "colab": {}
      },
      "source": [
        "btn_upload = widgets.FileUpload()\n",
        "out_pl = widgets.Output()\n",
        "lbl_pred = widgets.Label()"
      ],
      "execution_count": 5,
      "outputs": []
    },
    {
      "cell_type": "code",
      "metadata": {
        "id": "iqj3OsbHmZkS",
        "colab_type": "code",
        "colab": {}
      },
      "source": [
        "def on_data_change(change):\n",
        "    lbl_pred.value = ''\n",
        "    img = PILImage.create(btn_upload.data[-1])\n",
        "    out_pl.clear_output()\n",
        "    with out_pl: display(img.to_thumb(224,224))\n",
        "    pred,pred_idx,probs = learn_inf.predict(img)\n",
        "    if not pred:\n",
        "        idx = probs.argmax().item()\n",
        "        proba = probs.max().item()\n",
        "        prediction = learn_inf.dls.vocab[idx]\n",
        "        lbl_pred.value = f'Failed to identify the mineral. It may be {prediction} (probability {proba:.03f})'\n",
        "    elif len(pred) == 1:\n",
        "        prediction = pred[0]\n",
        "        proba = probs[pred_idx].item()\n",
        "        lbl_pred.value = f'This is {prediction} (probability: {proba:.03f})'\n",
        "    elif len(pred) > 1:\n",
        "        lbl_pred.value = f'Multiple minerals possible {pred}'"
      ],
      "execution_count": 6,
      "outputs": []
    },
    {
      "cell_type": "code",
      "metadata": {
        "id": "xv5ZQQNbmZkZ",
        "colab_type": "code",
        "colab": {}
      },
      "source": [
        "btn_upload.observe(on_data_change, names=['data'])"
      ],
      "execution_count": 7,
      "outputs": []
    },
    {
      "cell_type": "code",
      "metadata": {
        "id": "9jzweO7nmZke",
        "colab_type": "code",
        "colab": {}
      },
      "source": [
        "display(VBox([widgets.Label('Upload a photo of the mineral'), btn_upload, out_pl, lbl_pred]))"
      ],
      "execution_count": null,
      "outputs": []
    },
    {
      "cell_type": "code",
      "metadata": {
        "id": "nbts8rbImZkk",
        "colab_type": "code",
        "colab": {}
      },
      "source": [
        ""
      ],
      "execution_count": null,
      "outputs": []
    }
  ]
}